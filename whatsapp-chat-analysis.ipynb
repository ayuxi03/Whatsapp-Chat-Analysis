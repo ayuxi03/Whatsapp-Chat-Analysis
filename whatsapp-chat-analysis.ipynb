{
 "cells": [
  {
   "cell_type": "code",
   "execution_count": null,
   "id": "09216107-63f7-45bb-aa6c-4f7bef7ecebe",
   "metadata": {},
   "outputs": [],
   "source": [
    "import pandas as pd\n",
    "import re"
   ]
  },
  {
   "cell_type": "code",
   "execution_count": null,
   "id": "9bbc7945-6579-4f04-bf2e-aa737f42be79",
   "metadata": {},
   "outputs": [],
   "source": [
    "f = open('WhatsApp Chat with Subject.txt', 'r', encoding='utf-8')"
   ]
  },
  {
   "cell_type": "code",
   "execution_count": null,
   "id": "28a818cd-b281-4e11-b16c-eb3db8636cdb",
   "metadata": {},
   "outputs": [],
   "source": [
    "data = f.read()"
   ]
  },
  {
   "cell_type": "code",
   "execution_count": null,
   "id": "a428e119-98d9-42d4-84fc-dc7ad2dedbf8",
   "metadata": {},
   "outputs": [],
   "source": [
    "# print(data)\n",
    "\n",
    "pattern = r'\\d{1,2}/\\d{1,2}/\\d{2,4},\\s\\d{1,2}:\\d{2}\\s-\\s'"
   ]
  },
  {
   "cell_type": "code",
   "execution_count": null,
   "id": "8c32bb73-867d-4e11-8c6a-8fe85ac7e878",
   "metadata": {},
   "outputs": [],
   "source": [
    "messages = re.split(pattern, data)[1:]\n",
    "# messages\n",
    "len(messages)"
   ]
  },
  {
   "cell_type": "code",
   "execution_count": null,
   "id": "24324fd9-e666-443f-9fef-5ea883eafa63",
   "metadata": {},
   "outputs": [],
   "source": [
    "dates = re.findall(pattern, data)\n",
    "# dates\n",
    "len(dates)"
   ]
  },
  {
   "cell_type": "code",
   "execution_count": null,
   "id": "7c2e178a-e18c-41b6-9f4c-a13d6873fc63",
   "metadata": {},
   "outputs": [],
   "source": [
    "df = pd.DataFrame({'user_message': messages, 'message_date': dates})\n",
    "\n",
    "# convert messsage_date type\n",
    "df['message_date'] = pd.to_datetime(df['message_date'], format='%d/%m/%Y, %H:%M - ')\n",
    "\n",
    "df.rename(columns = {'message_date': 'date'}, inplace = True)\n",
    "df.head()"
   ]
  },
  {
   "cell_type": "code",
   "execution_count": null,
   "id": "5fc27a90-fdac-4b68-9106-084b352ce885",
   "metadata": {},
   "outputs": [],
   "source": [
    "df.shape"
   ]
  },
  {
   "cell_type": "code",
   "execution_count": null,
   "id": "cf8ceed5-fe43-45d7-b2e4-7aae210c1ed8",
   "metadata": {
    "scrolled": true
   },
   "outputs": [],
   "source": [
    "# separate users and messages\n",
    "users = []\n",
    "messages = []\n",
    "for message in df['user_message']:\n",
    "    entry = re.split(r'([\\w\\W]+?):\\s', message)\n",
    "    # print(entry)\n",
    "    if entry[1:]: # username\n",
    "        users.append(entry[1])\n",
    "        messages.append(entry[2])\n",
    "    else:\n",
    "        users.append('whatsapp_notification')\n",
    "        messages.append(entry[0])\n",
    "\n",
    "# print (len(messages))\n",
    "df['user'] = users\n",
    "df['message'] = messages\n",
    "df.drop(columns=['user_message'], inplace=True)\n",
    "\n",
    "df.head()"
   ]
  },
  {
   "cell_type": "code",
   "execution_count": null,
   "id": "fe50406c-ce33-428e-b061-cd4acb9621c1",
   "metadata": {},
   "outputs": [],
   "source": [
    "# separate year, moth, day, hour, minute columns\n",
    "df['year'] = df['date'].dt.year"
   ]
  },
  {
   "cell_type": "code",
   "execution_count": null,
   "id": "9ffeaf6d-aaf7-422a-a2ca-6d80e3583542",
   "metadata": {},
   "outputs": [],
   "source": [
    "df['month'] = df['date'].dt.month_name()"
   ]
  },
  {
   "cell_type": "code",
   "execution_count": null,
   "id": "d4361d65-bdb2-4719-b813-bc96153b4132",
   "metadata": {},
   "outputs": [],
   "source": [
    "df['day'] = df['date'].dt.day"
   ]
  },
  {
   "cell_type": "code",
   "execution_count": null,
   "id": "27ba8525-ea94-4e5a-a463-ca6b83bc1136",
   "metadata": {},
   "outputs": [],
   "source": [
    "df['hour'] = df['date'].dt.hour"
   ]
  },
  {
   "cell_type": "code",
   "execution_count": null,
   "id": "1a157bb1-5a43-4e8e-a693-f21969373638",
   "metadata": {},
   "outputs": [],
   "source": [
    "df['minute'] = df['date'].dt.minute"
   ]
  },
  {
   "cell_type": "code",
   "execution_count": null,
   "id": "7a65750f-83dc-470f-8d08-bb44e2f5a83e",
   "metadata": {},
   "outputs": [],
   "source": [
    "df.head()"
   ]
  },
  {
   "cell_type": "code",
   "execution_count": null,
   "id": "cad9cc65-7e51-43f1-8070-121e094de91a",
   "metadata": {},
   "outputs": [],
   "source": [
    "# select specific user\n",
    "df[df['user'] == 'Ayushi'].shape"
   ]
  },
  {
   "cell_type": "code",
   "execution_count": null,
   "id": "7a69019f-7788-445e-9ba7-8fc3137503d5",
   "metadata": {},
   "outputs": [],
   "source": [
    "# count words\n",
    "words = []\n",
    "for message in df['message']:\n",
    "    words.extend(message.split())"
   ]
  },
  {
   "cell_type": "code",
   "execution_count": null,
   "id": "2d410797-6bab-47ac-9785-9e82b443d82b",
   "metadata": {},
   "outputs": [],
   "source": [
    "len(words)"
   ]
  },
  {
   "cell_type": "code",
   "execution_count": null,
   "id": "903e161c-5eb9-4340-a9fb-794bdb8843f9",
   "metadata": {},
   "outputs": [],
   "source": [
    "# For url count\n",
    "from urlextract import URLExtract\n",
    "\n",
    "extractor = URLExtract()\n",
    "# Adds the links in a list\n",
    "urls = extractor.find_urls(\"www.gmail.com youtube.com google.com\")\n",
    "\n",
    "urls"
   ]
  },
  {
   "cell_type": "code",
   "execution_count": null,
   "id": "c48fbf01-30af-4184-a816-7d4665101a54",
   "metadata": {},
   "outputs": [],
   "source": [
    "# Fetching shared url count\n",
    "links = []\n",
    "\n",
    "for message in df['message']:\n",
    "    # Returns a list containing the urls shared\n",
    "    links.extend(extractor.find_urls(message))\n",
    "\n",
    "len(links)"
   ]
  },
  {
   "cell_type": "code",
   "execution_count": null,
   "id": "acbd53e3-672d-47ea-b999-5014a1da9772",
   "metadata": {},
   "outputs": [],
   "source": [
    "# 3. Fetching number of media messages\n",
    "num_media_messages = df[df['message'] == '<Media omitted>\\n'].shape[0]\n",
    "\n",
    "num_media_messages"
   ]
  },
  {
   "cell_type": "code",
   "execution_count": null,
   "id": "80553efb-90a8-4333-aadd-169b0e78b8e9",
   "metadata": {},
   "outputs": [],
   "source": [
    "# counts number of times each user occurs (desc order) - used to calculate most active users\n",
    "# top 5 users\n",
    "x = df['user'].value_counts().head()"
   ]
  },
  {
   "cell_type": "code",
   "execution_count": null,
   "id": "87e6b8d7-01ca-4e3c-a71b-6c78a6b1d4ff",
   "metadata": {},
   "outputs": [],
   "source": [
    "import matplotlib.pyplot as plt"
   ]
  },
  {
   "cell_type": "code",
   "execution_count": null,
   "id": "01aaf01f-4128-4bb9-b6c6-bbc14674a1b2",
   "metadata": {},
   "outputs": [],
   "source": [
    "name = x.index\n",
    "count = x.values"
   ]
  },
  {
   "cell_type": "code",
   "execution_count": null,
   "id": "6e665c93-6d8a-40b0-8cb4-568e1826c6cc",
   "metadata": {},
   "outputs": [],
   "source": [
    "# Bar graph for most active users\n",
    "plt.bar(name, count)\n",
    "plt.xticks(rotation='vertical')\n",
    "plt.show()"
   ]
  },
  {
   "cell_type": "code",
   "execution_count": null,
   "id": "98df2a6f-5642-483c-a417-402403ca6418",
   "metadata": {},
   "outputs": [],
   "source": [
    "# Calculating percentage of contribution of each user out of total messages\n",
    "round((df['user'].value_counts() / df.shape[0]) * 100, 2).reset_index().rename(columns = {'count': 'percent'})"
   ]
  },
  {
   "cell_type": "code",
   "execution_count": null,
   "id": "c0c0656b-0ede-46e8-95e7-3b4d3250c3ae",
   "metadata": {},
   "outputs": [],
   "source": []
  }
 ],
 "metadata": {
  "kernelspec": {
   "display_name": "Python 3 (ipykernel)",
   "language": "python",
   "name": "python3"
  },
  "language_info": {
   "codemirror_mode": {
    "name": "ipython",
    "version": 3
   },
   "file_extension": ".py",
   "mimetype": "text/x-python",
   "name": "python",
   "nbconvert_exporter": "python",
   "pygments_lexer": "ipython3",
   "version": "3.12.3"
  }
 },
 "nbformat": 4,
 "nbformat_minor": 5
}
