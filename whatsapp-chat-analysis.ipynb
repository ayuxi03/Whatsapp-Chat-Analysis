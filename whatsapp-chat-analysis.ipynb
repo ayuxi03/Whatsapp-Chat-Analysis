{
 "cells": [
  {
   "cell_type": "code",
   "execution_count": 15,
   "id": "09216107-63f7-45bb-aa6c-4f7bef7ecebe",
   "metadata": {},
   "outputs": [],
   "source": [
    "import pandas as pd\n",
    "import re"
   ]
  },
  {
   "cell_type": "code",
   "execution_count": 16,
   "id": "9bbc7945-6579-4f04-bf2e-aa737f42be79",
   "metadata": {},
   "outputs": [],
   "source": [
    "f = open('WhatsApp Chat with Subject.txt', 'r', encoding='utf-8')"
   ]
  },
  {
   "cell_type": "code",
   "execution_count": 17,
   "id": "28a818cd-b281-4e11-b16c-eb3db8636cdb",
   "metadata": {},
   "outputs": [],
   "source": [
    "data = f.read()"
   ]
  },
  {
   "cell_type": "code",
   "execution_count": 18,
   "id": "6391057c-29fa-464a-b5ce-3910cf5b7907",
   "metadata": {},
   "outputs": [],
   "source": [
    "# print(data)"
   ]
  },
  {
   "cell_type": "code",
   "execution_count": 19,
   "id": "fc17217a-307d-450a-8246-fcdb46d92c84",
   "metadata": {},
   "outputs": [],
   "source": [
    "pattern = r'\\d{1,2}/\\d{1,2}/\\d{2,4},\\s\\d{1,2}:\\d{2}\\s-\\s'"
   ]
  },
  {
   "cell_type": "code",
   "execution_count": 20,
   "id": "8c32bb73-867d-4e11-8c6a-8fe85ac7e878",
   "metadata": {},
   "outputs": [],
   "source": [
    "messages = re.split(pattern, data)[2:]\n",
    "# messages\n",
    "# len(messages)"
   ]
  },
  {
   "cell_type": "code",
   "execution_count": 21,
   "id": "24324fd9-e666-443f-9fef-5ea883eafa63",
   "metadata": {},
   "outputs": [],
   "source": [
    "dates = re.findall(pattern, data)\n",
    "# dates"
   ]
  },
  {
   "cell_type": "code",
   "execution_count": null,
   "id": "7c2e178a-e18c-41b6-9f4c-a13d6873fc63",
   "metadata": {},
   "outputs": [],
   "source": []
  }
 ],
 "metadata": {
  "kernelspec": {
   "display_name": "Python 3 (ipykernel)",
   "language": "python",
   "name": "python3"
  },
  "language_info": {
   "codemirror_mode": {
    "name": "ipython",
    "version": 3
   },
   "file_extension": ".py",
   "mimetype": "text/x-python",
   "name": "python",
   "nbconvert_exporter": "python",
   "pygments_lexer": "ipython3",
   "version": "3.12.3"
  }
 },
 "nbformat": 4,
 "nbformat_minor": 5
}
