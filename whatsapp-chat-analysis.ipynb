{
 "cells": [
  {
   "cell_type": "code",
   "execution_count": 1,
   "id": "09216107-63f7-45bb-aa6c-4f7bef7ecebe",
   "metadata": {},
   "outputs": [],
   "source": [
    "import pandas as pd\n",
    "import re"
   ]
  },
  {
   "cell_type": "code",
   "execution_count": 2,
   "id": "9bbc7945-6579-4f04-bf2e-aa737f42be79",
   "metadata": {},
   "outputs": [],
   "source": [
    "f = open('WhatsApp Chat with Subject.txt', 'r', encoding='utf-8')"
   ]
  },
  {
   "cell_type": "code",
   "execution_count": 3,
   "id": "28a818cd-b281-4e11-b16c-eb3db8636cdb",
   "metadata": {},
   "outputs": [],
   "source": [
    "data = f.read()"
   ]
  },
  {
   "cell_type": "code",
   "execution_count": null,
   "id": "a428e119-98d9-42d4-84fc-dc7ad2dedbf8",
   "metadata": {},
   "outputs": [],
   "source": [
    "print(data)\n",
    "\n",
    "pattern = r'\\d{1,2}/\\d{1,2}/\\d{2,4},\\s\\d{1,2}:\\d{2}\\s-\\s'"
   ]
  },
  {
   "cell_type": "code",
   "execution_count": 56,
   "id": "8c32bb73-867d-4e11-8c6a-8fe85ac7e878",
   "metadata": {},
   "outputs": [
    {
     "data": {
      "text/plain": [
       "1588"
      ]
     },
     "execution_count": 56,
     "metadata": {},
     "output_type": "execute_result"
    }
   ],
   "source": [
    "messages = re.split(pattern, data)[2:]\n",
    "# messages\n",
    "len(messages)"
   ]
  },
  {
   "cell_type": "code",
   "execution_count": 57,
   "id": "24324fd9-e666-443f-9fef-5ea883eafa63",
   "metadata": {},
   "outputs": [
    {
     "data": {
      "text/plain": [
       "1588"
      ]
     },
     "execution_count": 57,
     "metadata": {},
     "output_type": "execute_result"
    }
   ],
   "source": [
    "dates = re.findall(pattern, data)[1:]\n",
    "# dates\n",
    "len(dates)"
   ]
  },
  {
   "cell_type": "code",
   "execution_count": null,
   "id": "7c2e178a-e18c-41b6-9f4c-a13d6873fc63",
   "metadata": {},
   "outputs": [],
   "source": [
    "df = pd.DataFrame({'user_message': messages, 'message_date': dates})\n",
    "\n",
    "# convert messsage_date type\n",
    "df['message_date'] = pd.to_datetime(df['message_date'], format='%d/%m/%Y, %H:%M - ')\n",
    "\n",
    "df.rename(columns = {'message_date': 'date'}, inplace = True)\n",
    "df.head()"
   ]
  },
  {
   "cell_type": "code",
   "execution_count": 59,
   "id": "5fc27a90-fdac-4b68-9106-084b352ce885",
   "metadata": {},
   "outputs": [
    {
     "data": {
      "text/plain": [
       "(1588, 2)"
      ]
     },
     "execution_count": 59,
     "metadata": {},
     "output_type": "execute_result"
    }
   ],
   "source": [
    "df.shape"
   ]
  },
  {
   "cell_type": "code",
   "execution_count": null,
   "id": "cf8ceed5-fe43-45d7-b2e4-7aae210c1ed8",
   "metadata": {
    "scrolled": true
   },
   "outputs": [],
   "source": [
    "# separate users and messages\n",
    "users = []\n",
    "messages = []\n",
    "for message in df['user_message']:\n",
    "    entry = re.split(r'([\\w\\W]+?):\\s', message)\n",
    "    # print(entry)\n",
    "    if entry[1:]: # username\n",
    "        users.append(entry[1])\n",
    "        messages.append(entry[2])\n",
    "    else:\n",
    "        users.append('whatsapp_notification')\n",
    "        messages.append(entry[0])\n",
    "\n",
    "# print (len(messages))\n",
    "df['user'] = users\n",
    "df['message'] = messages\n",
    "df.drop(columns=['user_message'], inplace=True)\n",
    "\n",
    "df.head()"
   ]
  },
  {
   "cell_type": "code",
   "execution_count": null,
   "id": "fe50406c-ce33-428e-b061-cd4acb9621c1",
   "metadata": {},
   "outputs": [],
   "source": []
  }
 ],
 "metadata": {
  "kernelspec": {
   "display_name": "Python 3 (ipykernel)",
   "language": "python",
   "name": "python3"
  },
  "language_info": {
   "codemirror_mode": {
    "name": "ipython",
    "version": 3
   },
   "file_extension": ".py",
   "mimetype": "text/x-python",
   "name": "python",
   "nbconvert_exporter": "python",
   "pygments_lexer": "ipython3",
   "version": "3.12.3"
  }
 },
 "nbformat": 4,
 "nbformat_minor": 5
}
